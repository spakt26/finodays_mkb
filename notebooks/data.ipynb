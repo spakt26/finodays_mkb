{
 "cells": [
  {
   "cell_type": "code",
   "execution_count": 1,
   "metadata": {},
   "outputs": [
    {
     "name": "stdout",
     "output_type": "stream",
     "text": [
      "(494715, 4)\n"
     ]
    },
    {
     "data": {
      "text/html": [
       "<div>\n",
       "<style scoped>\n",
       "    .dataframe tbody tr th:only-of-type {\n",
       "        vertical-align: middle;\n",
       "    }\n",
       "\n",
       "    .dataframe tbody tr th {\n",
       "        vertical-align: top;\n",
       "    }\n",
       "\n",
       "    .dataframe thead th {\n",
       "        text-align: right;\n",
       "    }\n",
       "</style>\n",
       "<table border=\"1\" class=\"dataframe\">\n",
       "  <thead>\n",
       "    <tr style=\"text-align: right;\">\n",
       "      <th></th>\n",
       "      <th>TIME_STAMP</th>\n",
       "      <th>CLIENTCODE</th>\n",
       "      <th>USERAGENT</th>\n",
       "      <th>URL</th>\n",
       "    </tr>\n",
       "  </thead>\n",
       "  <tbody>\n",
       "    <tr>\n",
       "      <th>0</th>\n",
       "      <td>2022-09-25 11:56:17</td>\n",
       "      <td>1953307</td>\n",
       "      <td>Mozilla/5.0 (Macintosh; Intel Mac OS X 10_15_7...</td>\n",
       "      <td>/secure/main.aspx</td>\n",
       "    </tr>\n",
       "    <tr>\n",
       "      <th>1</th>\n",
       "      <td>2022-09-25 11:56:17</td>\n",
       "      <td>4633710</td>\n",
       "      <td>Mozilla/5.0 (Windows NT 10.0; Win64; x64) Appl...</td>\n",
       "      <td>/secure/CardOperations.aspx</td>\n",
       "    </tr>\n",
       "    <tr>\n",
       "      <th>2</th>\n",
       "      <td>2022-09-25 11:56:16</td>\n",
       "      <td>2475742</td>\n",
       "      <td>Mozilla/5.0 (Windows NT 6.1) AppleWebKit/537.3...</td>\n",
       "      <td>/secure/main.aspx</td>\n",
       "    </tr>\n",
       "    <tr>\n",
       "      <th>3</th>\n",
       "      <td>2022-09-25 11:56:13</td>\n",
       "      <td>3288746</td>\n",
       "      <td>Mozilla/5.0 (Windows NT 10.0; Win64; x64) Appl...</td>\n",
       "      <td>/secure/cardblock/create.aspx</td>\n",
       "    </tr>\n",
       "    <tr>\n",
       "      <th>4</th>\n",
       "      <td>2022-09-25 11:56:12</td>\n",
       "      <td>3074672</td>\n",
       "      <td>Mozilla/5.0 (Windows NT 10.0; Win64; x64) Appl...</td>\n",
       "      <td>/secure/dcards.aspx</td>\n",
       "    </tr>\n",
       "  </tbody>\n",
       "</table>\n",
       "</div>"
      ],
      "text/plain": [
       "           TIME_STAMP  CLIENTCODE  \\\n",
       "0 2022-09-25 11:56:17     1953307   \n",
       "1 2022-09-25 11:56:17     4633710   \n",
       "2 2022-09-25 11:56:16     2475742   \n",
       "3 2022-09-25 11:56:13     3288746   \n",
       "4 2022-09-25 11:56:12     3074672   \n",
       "\n",
       "                                           USERAGENT  \\\n",
       "0  Mozilla/5.0 (Macintosh; Intel Mac OS X 10_15_7...   \n",
       "1  Mozilla/5.0 (Windows NT 10.0; Win64; x64) Appl...   \n",
       "2  Mozilla/5.0 (Windows NT 6.1) AppleWebKit/537.3...   \n",
       "3  Mozilla/5.0 (Windows NT 10.0; Win64; x64) Appl...   \n",
       "4  Mozilla/5.0 (Windows NT 10.0; Win64; x64) Appl...   \n",
       "\n",
       "                             URL  \n",
       "0              /secure/main.aspx  \n",
       "1    /secure/CardOperations.aspx  \n",
       "2              /secure/main.aspx  \n",
       "3  /secure/cardblock/create.aspx  \n",
       "4            /secure/dcards.aspx  "
      ]
     },
     "execution_count": 1,
     "metadata": {},
     "output_type": "execute_result"
    }
   ],
   "source": [
    "import pandas as pd\n",
    "import plotly.express as px\n",
    "\n",
    "df =  pd.read_csv('../data.csv')\n",
    "df = df.drop(columns=['Unnamed: 0', 'ID_STAT'])\n",
    "df = df.drop_duplicates()\n",
    "df['TIME_STAMP'] = pd.to_datetime(df.TIME_STAMP)\n",
    "print(df.shape)\n",
    "df.head()"
   ]
  },
  {
   "cell_type": "markdown",
   "metadata": {},
   "source": [
    "## First Look"
   ]
  },
  {
   "cell_type": "code",
   "execution_count": 65,
   "metadata": {},
   "outputs": [
    {
     "name": "stdout",
     "output_type": "stream",
     "text": [
      "Пропусков нет!\n"
     ]
    },
    {
     "data": {
      "text/plain": [
       "TIME_STAMP    0\n",
       "CLIENTCODE    0\n",
       "USERAGENT     0\n",
       "URL           0\n",
       "dtype: int64"
      ]
     },
     "execution_count": 65,
     "metadata": {},
     "output_type": "execute_result"
    }
   ],
   "source": [
    "print('Пропусков нет!')\n",
    "df.isna().sum()"
   ]
  },
  {
   "cell_type": "code",
   "execution_count": 66,
   "metadata": {},
   "outputs": [
    {
     "name": "stdout",
     "output_type": "stream",
     "text": [
      "разнос дней\n"
     ]
    },
    {
     "data": {
      "text/plain": [
       "max   2022-09-25 11:56:17\n",
       "min   2022-09-20 08:18:38\n",
       "Name: TIME_STAMP, dtype: datetime64[ns]"
      ]
     },
     "metadata": {},
     "output_type": "display_data"
    },
    {
     "data": {
      "text/plain": [
       "2022-09-20    104040\n",
       "2022-09-23    100164\n",
       "2022-09-22     96710\n",
       "2022-09-21     95608\n",
       "2022-09-24     78050\n",
       "2022-09-25     20143\n",
       "Name: TIME_STAMP, dtype: int64"
      ]
     },
     "execution_count": 66,
     "metadata": {},
     "output_type": "execute_result"
    }
   ],
   "source": [
    "print('разнос дней')\n",
    "display(df.TIME_STAMP.agg(['max','min']))\n",
    "df.TIME_STAMP.dt.date.value_counts()"
   ]
  },
  {
   "cell_type": "code",
   "execution_count": 67,
   "metadata": {},
   "outputs": [
    {
     "name": "stdout",
     "output_type": "stream",
     "text": [
      "Уникальных ссылок:  352\n",
      "Уникальных пользователей:  38121\n",
      "Уникальных параметров устройства входа в систему:  6725\n",
      "Распределение ссылок:\n"
     ]
    },
    {
     "data": {
      "text/plain": [
       "/secure/main.aspx                                        107125\n",
       "/secure/CardOperations.aspx                               32243\n",
       "/secure/deps.aspx                                         24178\n",
       "/secure/PaymentForm.aspx                                  24016\n",
       "/secure/dcards.aspx                                       23631\n",
       "                                                          ...  \n",
       "/secure/informingsettings/operationsinsystem.aspx             1\n",
       "/secure/servicepackages/smsinform/create.aspx                 1\n",
       "/secure/depositAllInclusive/changeacc/create.aspx             1\n",
       "/secure/financecons/fcgoals.aspx                              1\n",
       "/secure/autopaymentsmobile/all/debt/confirmation.aspx         1\n",
       "Name: URL, Length: 352, dtype: int64"
      ]
     },
     "metadata": {},
     "output_type": "display_data"
    }
   ],
   "source": [
    "print('Уникальных ссылок: ',len(df.URL.unique()))\n",
    "print('Уникальных пользователей: ',len(df.CLIENTCODE.unique()))\n",
    "print('Уникальных параметров устройства входа в систему: ',len(df.USERAGENT.unique()))\n",
    "print('Распределение ссылок:')\n",
    "# px.bar(df.URL.value_counts()).show()\n",
    "display(df.URL.value_counts())"
   ]
  },
  {
   "cell_type": "code",
   "execution_count": 68,
   "metadata": {},
   "outputs": [
    {
     "data": {
      "text/plain": [
       "100"
      ]
     },
     "execution_count": 68,
     "metadata": {},
     "output_type": "execute_result"
    }
   ],
   "source": [
    "df.URL.value_counts()[df.URL.value_counts()<=20].__len__()"
   ]
  },
  {
   "cell_type": "code",
   "execution_count": 70,
   "metadata": {},
   "outputs": [
    {
     "data": {
      "text/plain": [
       "9556"
      ]
     },
     "execution_count": 70,
     "metadata": {},
     "output_type": "execute_result"
    }
   ],
   "source": [
    "df.CLIENTCODE.value_counts()[df.CLIENTCODE.value_counts()<3].__len__()"
   ]
  },
  {
   "cell_type": "code",
   "execution_count": 69,
   "metadata": {},
   "outputs": [
    {
     "name": "stdout",
     "output_type": "stream",
     "text": [
      "Распределение клиентов:\n"
     ]
    },
    {
     "data": {
      "text/plain": [
       "1260796    781\n",
       "5217094    520\n",
       "5043204    393\n",
       "647015     367\n",
       "5363945    291\n",
       "          ... \n",
       "2555779      1\n",
       "1329554      1\n",
       "100641       1\n",
       "3357292      1\n",
       "5409245      1\n",
       "Name: CLIENTCODE, Length: 38121, dtype: int64"
      ]
     },
     "metadata": {},
     "output_type": "display_data"
    }
   ],
   "source": [
    "print('Распределение клиентов:')\n",
    "# px.bar(df.CLIENTCODE.value_counts().reset_index(drop=True)).show()\n",
    "display(df.CLIENTCODE.value_counts())"
   ]
  }
 ],
 "metadata": {
  "kernelspec": {
   "display_name": "Python 3.10.5 64-bit",
   "language": "python",
   "name": "python3"
  },
  "language_info": {
   "codemirror_mode": {
    "name": "ipython",
    "version": 3
   },
   "file_extension": ".py",
   "mimetype": "text/x-python",
   "name": "python",
   "nbconvert_exporter": "python",
   "pygments_lexer": "ipython3",
   "version": "3.10.5"
  },
  "orig_nbformat": 4,
  "vscode": {
   "interpreter": {
    "hash": "63963b3f4c440940f0b94a3100916033a226cb4f45979123153792d60aa56d6a"
   }
  }
 },
 "nbformat": 4,
 "nbformat_minor": 2
}
